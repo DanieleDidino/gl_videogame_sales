{
 "cells": [
  {
   "cell_type": "markdown",
   "metadata": {},
   "source": [
    "# Load libraries"
   ]
  },
  {
   "cell_type": "code",
   "execution_count": 41,
   "metadata": {},
   "outputs": [],
   "source": [
    "import pandas as pd\n",
    "import matplotlib.pyplot as plt\n",
    "import seaborn as sns\n",
    "from pathlib import Path\n",
    "from ydata_profiling import ProfileReport\n",
    "import warnings\n",
    "\n",
    "%matplotlib inline\n",
    "\n",
    "# Ignore future warnings\n",
    "warnings.simplefilter(action='ignore', category=FutureWarning)"
   ]
  },
  {
   "cell_type": "markdown",
   "metadata": {},
   "source": [
    "# Load data set"
   ]
  },
  {
   "cell_type": "code",
   "execution_count": 42,
   "metadata": {},
   "outputs": [],
   "source": [
    "# Define path to file\n",
    "file_path_vgsales = Path(\"data/vgsales.csv\")\n",
    "\n",
    "# Load the CSV\n",
    "vgsales = pd.read_csv(file_path_vgsales)"
   ]
  },
  {
   "cell_type": "markdown",
   "metadata": {},
   "source": [
    "# Display first rows"
   ]
  },
  {
   "cell_type": "code",
   "execution_count": 43,
   "metadata": {},
   "outputs": [
    {
     "data": {
      "text/html": [
       "<div>\n",
       "<style scoped>\n",
       "    .dataframe tbody tr th:only-of-type {\n",
       "        vertical-align: middle;\n",
       "    }\n",
       "\n",
       "    .dataframe tbody tr th {\n",
       "        vertical-align: top;\n",
       "    }\n",
       "\n",
       "    .dataframe thead th {\n",
       "        text-align: right;\n",
       "    }\n",
       "</style>\n",
       "<table border=\"1\" class=\"dataframe\">\n",
       "  <thead>\n",
       "    <tr style=\"text-align: right;\">\n",
       "      <th></th>\n",
       "      <th>Rank</th>\n",
       "      <th>Name</th>\n",
       "      <th>Platform</th>\n",
       "      <th>Year</th>\n",
       "      <th>Genre</th>\n",
       "      <th>Publisher</th>\n",
       "      <th>NA_Sales</th>\n",
       "      <th>EU_Sales</th>\n",
       "      <th>JP_Sales</th>\n",
       "      <th>Other_Sales</th>\n",
       "      <th>Global_Sales</th>\n",
       "    </tr>\n",
       "  </thead>\n",
       "  <tbody>\n",
       "    <tr>\n",
       "      <th>0</th>\n",
       "      <td>1</td>\n",
       "      <td>Wii Sports</td>\n",
       "      <td>Wii</td>\n",
       "      <td>2006.0</td>\n",
       "      <td>Sports</td>\n",
       "      <td>Nintendo</td>\n",
       "      <td>41.49</td>\n",
       "      <td>29.02</td>\n",
       "      <td>3.77</td>\n",
       "      <td>8.46</td>\n",
       "      <td>82.74</td>\n",
       "    </tr>\n",
       "    <tr>\n",
       "      <th>1</th>\n",
       "      <td>2</td>\n",
       "      <td>Super Mario Bros.</td>\n",
       "      <td>NES</td>\n",
       "      <td>1985.0</td>\n",
       "      <td>Platform</td>\n",
       "      <td>Nintendo</td>\n",
       "      <td>29.08</td>\n",
       "      <td>3.58</td>\n",
       "      <td>6.81</td>\n",
       "      <td>0.77</td>\n",
       "      <td>40.24</td>\n",
       "    </tr>\n",
       "    <tr>\n",
       "      <th>2</th>\n",
       "      <td>3</td>\n",
       "      <td>Mario Kart Wii</td>\n",
       "      <td>Wii</td>\n",
       "      <td>2008.0</td>\n",
       "      <td>Racing</td>\n",
       "      <td>Nintendo</td>\n",
       "      <td>15.85</td>\n",
       "      <td>12.88</td>\n",
       "      <td>3.79</td>\n",
       "      <td>3.31</td>\n",
       "      <td>35.82</td>\n",
       "    </tr>\n",
       "    <tr>\n",
       "      <th>3</th>\n",
       "      <td>4</td>\n",
       "      <td>Wii Sports Resort</td>\n",
       "      <td>Wii</td>\n",
       "      <td>2009.0</td>\n",
       "      <td>Sports</td>\n",
       "      <td>Nintendo</td>\n",
       "      <td>15.75</td>\n",
       "      <td>11.01</td>\n",
       "      <td>3.28</td>\n",
       "      <td>2.96</td>\n",
       "      <td>33.00</td>\n",
       "    </tr>\n",
       "    <tr>\n",
       "      <th>4</th>\n",
       "      <td>5</td>\n",
       "      <td>Pokemon Red/Pokemon Blue</td>\n",
       "      <td>GB</td>\n",
       "      <td>1996.0</td>\n",
       "      <td>Role-Playing</td>\n",
       "      <td>Nintendo</td>\n",
       "      <td>11.27</td>\n",
       "      <td>8.89</td>\n",
       "      <td>10.22</td>\n",
       "      <td>1.00</td>\n",
       "      <td>31.37</td>\n",
       "    </tr>\n",
       "  </tbody>\n",
       "</table>\n",
       "</div>"
      ],
      "text/plain": [
       "   Rank                      Name Platform    Year         Genre Publisher  \\\n",
       "0     1                Wii Sports      Wii  2006.0        Sports  Nintendo   \n",
       "1     2         Super Mario Bros.      NES  1985.0      Platform  Nintendo   \n",
       "2     3            Mario Kart Wii      Wii  2008.0        Racing  Nintendo   \n",
       "3     4         Wii Sports Resort      Wii  2009.0        Sports  Nintendo   \n",
       "4     5  Pokemon Red/Pokemon Blue       GB  1996.0  Role-Playing  Nintendo   \n",
       "\n",
       "   NA_Sales  EU_Sales  JP_Sales  Other_Sales  Global_Sales  \n",
       "0     41.49     29.02      3.77         8.46         82.74  \n",
       "1     29.08      3.58      6.81         0.77         40.24  \n",
       "2     15.85     12.88      3.79         3.31         35.82  \n",
       "3     15.75     11.01      3.28         2.96         33.00  \n",
       "4     11.27      8.89     10.22         1.00         31.37  "
      ]
     },
     "execution_count": 43,
     "metadata": {},
     "output_type": "execute_result"
    }
   ],
   "source": [
    "vgsales.head()"
   ]
  },
  {
   "cell_type": "markdown",
   "metadata": {},
   "source": [
    "# Describe"
   ]
  },
  {
   "cell_type": "code",
   "execution_count": 44,
   "metadata": {},
   "outputs": [
    {
     "data": {
      "text/html": [
       "<div>\n",
       "<style scoped>\n",
       "    .dataframe tbody tr th:only-of-type {\n",
       "        vertical-align: middle;\n",
       "    }\n",
       "\n",
       "    .dataframe tbody tr th {\n",
       "        vertical-align: top;\n",
       "    }\n",
       "\n",
       "    .dataframe thead th {\n",
       "        text-align: right;\n",
       "    }\n",
       "</style>\n",
       "<table border=\"1\" class=\"dataframe\">\n",
       "  <thead>\n",
       "    <tr style=\"text-align: right;\">\n",
       "      <th></th>\n",
       "      <th>Rank</th>\n",
       "      <th>Year</th>\n",
       "      <th>NA_Sales</th>\n",
       "      <th>EU_Sales</th>\n",
       "      <th>JP_Sales</th>\n",
       "      <th>Other_Sales</th>\n",
       "      <th>Global_Sales</th>\n",
       "    </tr>\n",
       "  </thead>\n",
       "  <tbody>\n",
       "    <tr>\n",
       "      <th>count</th>\n",
       "      <td>16598.000000</td>\n",
       "      <td>16327.000000</td>\n",
       "      <td>16598.000000</td>\n",
       "      <td>16598.000000</td>\n",
       "      <td>16598.000000</td>\n",
       "      <td>16598.000000</td>\n",
       "      <td>16598.000000</td>\n",
       "    </tr>\n",
       "    <tr>\n",
       "      <th>mean</th>\n",
       "      <td>8300.605254</td>\n",
       "      <td>2006.406443</td>\n",
       "      <td>0.264667</td>\n",
       "      <td>0.146652</td>\n",
       "      <td>0.077782</td>\n",
       "      <td>0.048063</td>\n",
       "      <td>0.537441</td>\n",
       "    </tr>\n",
       "    <tr>\n",
       "      <th>std</th>\n",
       "      <td>4791.853933</td>\n",
       "      <td>5.828981</td>\n",
       "      <td>0.816683</td>\n",
       "      <td>0.505351</td>\n",
       "      <td>0.309291</td>\n",
       "      <td>0.188588</td>\n",
       "      <td>1.555028</td>\n",
       "    </tr>\n",
       "    <tr>\n",
       "      <th>min</th>\n",
       "      <td>1.000000</td>\n",
       "      <td>1980.000000</td>\n",
       "      <td>0.000000</td>\n",
       "      <td>0.000000</td>\n",
       "      <td>0.000000</td>\n",
       "      <td>0.000000</td>\n",
       "      <td>0.010000</td>\n",
       "    </tr>\n",
       "    <tr>\n",
       "      <th>25%</th>\n",
       "      <td>4151.250000</td>\n",
       "      <td>2003.000000</td>\n",
       "      <td>0.000000</td>\n",
       "      <td>0.000000</td>\n",
       "      <td>0.000000</td>\n",
       "      <td>0.000000</td>\n",
       "      <td>0.060000</td>\n",
       "    </tr>\n",
       "    <tr>\n",
       "      <th>50%</th>\n",
       "      <td>8300.500000</td>\n",
       "      <td>2007.000000</td>\n",
       "      <td>0.080000</td>\n",
       "      <td>0.020000</td>\n",
       "      <td>0.000000</td>\n",
       "      <td>0.010000</td>\n",
       "      <td>0.170000</td>\n",
       "    </tr>\n",
       "    <tr>\n",
       "      <th>75%</th>\n",
       "      <td>12449.750000</td>\n",
       "      <td>2010.000000</td>\n",
       "      <td>0.240000</td>\n",
       "      <td>0.110000</td>\n",
       "      <td>0.040000</td>\n",
       "      <td>0.040000</td>\n",
       "      <td>0.470000</td>\n",
       "    </tr>\n",
       "    <tr>\n",
       "      <th>max</th>\n",
       "      <td>16600.000000</td>\n",
       "      <td>2020.000000</td>\n",
       "      <td>41.490000</td>\n",
       "      <td>29.020000</td>\n",
       "      <td>10.220000</td>\n",
       "      <td>10.570000</td>\n",
       "      <td>82.740000</td>\n",
       "    </tr>\n",
       "  </tbody>\n",
       "</table>\n",
       "</div>"
      ],
      "text/plain": [
       "               Rank          Year      NA_Sales      EU_Sales      JP_Sales  \\\n",
       "count  16598.000000  16327.000000  16598.000000  16598.000000  16598.000000   \n",
       "mean    8300.605254   2006.406443      0.264667      0.146652      0.077782   \n",
       "std     4791.853933      5.828981      0.816683      0.505351      0.309291   \n",
       "min        1.000000   1980.000000      0.000000      0.000000      0.000000   \n",
       "25%     4151.250000   2003.000000      0.000000      0.000000      0.000000   \n",
       "50%     8300.500000   2007.000000      0.080000      0.020000      0.000000   \n",
       "75%    12449.750000   2010.000000      0.240000      0.110000      0.040000   \n",
       "max    16600.000000   2020.000000     41.490000     29.020000     10.220000   \n",
       "\n",
       "        Other_Sales  Global_Sales  \n",
       "count  16598.000000  16598.000000  \n",
       "mean       0.048063      0.537441  \n",
       "std        0.188588      1.555028  \n",
       "min        0.000000      0.010000  \n",
       "25%        0.000000      0.060000  \n",
       "50%        0.010000      0.170000  \n",
       "75%        0.040000      0.470000  \n",
       "max       10.570000     82.740000  "
      ]
     },
     "execution_count": 44,
     "metadata": {},
     "output_type": "execute_result"
    }
   ],
   "source": [
    "vgsales.describe()"
   ]
  },
  {
   "cell_type": "markdown",
   "metadata": {},
   "source": [
    "# Info"
   ]
  },
  {
   "cell_type": "code",
   "execution_count": 45,
   "metadata": {},
   "outputs": [
    {
     "name": "stdout",
     "output_type": "stream",
     "text": [
      "<class 'pandas.core.frame.DataFrame'>\n",
      "RangeIndex: 16598 entries, 0 to 16597\n",
      "Data columns (total 11 columns):\n",
      " #   Column        Non-Null Count  Dtype  \n",
      "---  ------        --------------  -----  \n",
      " 0   Rank          16598 non-null  int64  \n",
      " 1   Name          16598 non-null  object \n",
      " 2   Platform      16598 non-null  object \n",
      " 3   Year          16327 non-null  float64\n",
      " 4   Genre         16598 non-null  object \n",
      " 5   Publisher     16540 non-null  object \n",
      " 6   NA_Sales      16598 non-null  float64\n",
      " 7   EU_Sales      16598 non-null  float64\n",
      " 8   JP_Sales      16598 non-null  float64\n",
      " 9   Other_Sales   16598 non-null  float64\n",
      " 10  Global_Sales  16598 non-null  float64\n",
      "dtypes: float64(6), int64(1), object(4)\n",
      "memory usage: 1.4+ MB\n"
     ]
    }
   ],
   "source": [
    "vgsales.info()"
   ]
  },
  {
   "cell_type": "markdown",
   "metadata": {},
   "source": [
    "# Create report"
   ]
  },
  {
   "cell_type": "code",
   "execution_count": 46,
   "metadata": {},
   "outputs": [],
   "source": [
    "profile = ProfileReport(vgsales, title=\"Profiling Report\")"
   ]
  },
  {
   "cell_type": "code",
   "execution_count": 47,
   "metadata": {},
   "outputs": [
    {
     "name": "stderr",
     "output_type": "stream",
     "text": [
      "Summarize dataset:  72%|███████▏  | 13/18 [00:00<00:00,  6.13it/s, Calculate auto correlation]   c:\\Users\\danie\\AppData\\Local\\Programs\\Python\\Python39\\lib\\site-packages\\ydata_profiling\\model\\correlations.py:66: UserWarning: There was an attempt to calculate the auto correlation, but this failed.\n",
      "To hide this warning, disable the calculation\n",
      "(using `df.profile_report(correlations={\"auto\": {\"calculate\": False}})`\n",
      "If this is problematic for your use case, please report this as an issue:\n",
      "https://github.com/ydataai/ydata-profiling/issues\n",
      "(include the error message: 'could not convert string to float: 'Sports'')\n",
      "  warnings.warn(\n",
      "Summarize dataset: 100%|██████████| 70/70 [00:05<00:00, 13.33it/s, Completed]                         \n",
      "Generate report structure: 100%|██████████| 1/1 [00:03<00:00,  3.40s/it]\n",
      "Render HTML: 100%|██████████| 1/1 [00:01<00:00,  1.21s/it]\n",
      "Export report to file: 100%|██████████| 1/1 [00:00<00:00, 99.98it/s]\n"
     ]
    }
   ],
   "source": [
    "# profile.to_notebook_iframe()\n",
    "# profile.to_widgets()\n",
    "profile.to_file(\"report_original_dataset.html\")"
   ]
  },
  {
   "cell_type": "markdown",
   "metadata": {},
   "source": [
    "# Remove rows with missing values"
   ]
  },
  {
   "cell_type": "code",
   "execution_count": 48,
   "metadata": {},
   "outputs": [],
   "source": [
    "vgsales_without_na = vgsales.dropna()"
   ]
  },
  {
   "cell_type": "code",
   "execution_count": 49,
   "metadata": {},
   "outputs": [
    {
     "name": "stdout",
     "output_type": "stream",
     "text": [
      "<class 'pandas.core.frame.DataFrame'>\n",
      "Index: 16291 entries, 0 to 16597\n",
      "Data columns (total 11 columns):\n",
      " #   Column        Non-Null Count  Dtype  \n",
      "---  ------        --------------  -----  \n",
      " 0   Rank          16291 non-null  int64  \n",
      " 1   Name          16291 non-null  object \n",
      " 2   Platform      16291 non-null  object \n",
      " 3   Year          16291 non-null  float64\n",
      " 4   Genre         16291 non-null  object \n",
      " 5   Publisher     16291 non-null  object \n",
      " 6   NA_Sales      16291 non-null  float64\n",
      " 7   EU_Sales      16291 non-null  float64\n",
      " 8   JP_Sales      16291 non-null  float64\n",
      " 9   Other_Sales   16291 non-null  float64\n",
      " 10  Global_Sales  16291 non-null  float64\n",
      "dtypes: float64(6), int64(1), object(4)\n",
      "memory usage: 1.5+ MB\n"
     ]
    }
   ],
   "source": [
    "vgsales_without_na.info()"
   ]
  },
  {
   "cell_type": "markdown",
   "metadata": {},
   "source": [
    "# Feature selection"
   ]
  },
  {
   "cell_type": "markdown",
   "metadata": {},
   "source": [
    "## Platform"
   ]
  },
  {
   "cell_type": "code",
   "execution_count": 50,
   "metadata": {},
   "outputs": [
    {
     "data": {
      "text/plain": [
       "Platform\n",
       "DS      2131\n",
       "PS2     2127\n",
       "PS3     1304\n",
       "Wii     1290\n",
       "X360    1234\n",
       "PSP     1197\n",
       "PS      1189\n",
       "PC       938\n",
       "XB       803\n",
       "GBA      786\n",
       "GC       542\n",
       "3DS      499\n",
       "PSV      410\n",
       "PS4      336\n",
       "N64      316\n",
       "SNES     239\n",
       "XOne     213\n",
       "SAT      173\n",
       "WiiU     143\n",
       "2600     116\n",
       "NES       98\n",
       "GB        97\n",
       "DC        52\n",
       "GEN       27\n",
       "NG        12\n",
       "SCD        6\n",
       "WS         6\n",
       "3DO        3\n",
       "TG16       2\n",
       "GG         1\n",
       "PCFX       1\n",
       "Name: count, dtype: int64"
      ]
     },
     "execution_count": 50,
     "metadata": {},
     "output_type": "execute_result"
    }
   ],
   "source": [
    "vgsales_without_na.Platform.value_counts()"
   ]
  },
  {
   "cell_type": "code",
   "execution_count": 51,
   "metadata": {},
   "outputs": [],
   "source": [
    "console_fullname = {\n",
    "    'DS': 'Nintendo DS',\n",
    "    'PS2': 'PlayStation 2',\n",
    "    'PS3': 'PlayStation 3',\n",
    "    'Wii': 'Nintendo Wii',\n",
    "    'X360': 'Xbox 360',\n",
    "    'PSP': 'PlayStation Portable',\n",
    "    'PS': 'PlayStation',\n",
    "    'PC': 'Personal Computer',\n",
    "    'XB': 'Xbox',\n",
    "    'GBA': 'Game Boy Advance',\n",
    "    'GC': 'GameCube',\n",
    "    '3DS': 'Nintendo 3DS',\n",
    "    'PSV': 'PlayStation Vita',\n",
    "    'PS4': 'PlayStation 4',\n",
    "    'N64': 'Nintendo 64',\n",
    "    'SNES': 'Super Nintendo Entertainment System',\n",
    "    'XOne': 'Xbox One',\n",
    "    'SAT': 'Sega Saturn',\n",
    "    'WiiU': 'Nintendo Wii U',\n",
    "    '2600': 'Atari 2600',\n",
    "    'NES': 'Nintendo Entertainment System',\n",
    "    'GB': 'Game Boy',\n",
    "    'DC': 'Dreamcast',\n",
    "    'GEN': 'Genesis (Mega Drive)',\n",
    "    'NG': 'Neo Geo',\n",
    "    'SCD': 'Sega CD',\n",
    "    'WS': 'WonderSwan',\n",
    "    '3DO': '3DO Interactive Multiplayer',\n",
    "    'TG16': 'TurboGrafx-16',\n",
    "    'GG': 'Game Gear',\n",
    "    'PCFX': 'PC-FX'\n",
    "}"
   ]
  },
  {
   "cell_type": "code",
   "execution_count": null,
   "metadata": {},
   "outputs": [],
   "source": [
    "# Apply the mapping to the dataset\n",
    "vgsales_without_na.loc[:,\"Platform_fullname\"] = vgsales_without_na[\"Platform\"].map(console_fullname)"
   ]
  },
  {
   "cell_type": "code",
   "execution_count": 53,
   "metadata": {},
   "outputs": [
    {
     "data": {
      "text/plain": [
       "Platform  Platform_fullname                  \n",
       "DS        Nintendo DS                            2131\n",
       "PS2       PlayStation 2                          2127\n",
       "PS3       PlayStation 3                          1304\n",
       "Wii       Nintendo Wii                           1290\n",
       "X360      Xbox 360                               1234\n",
       "PSP       PlayStation Portable                   1197\n",
       "PS        PlayStation                            1189\n",
       "PC        Personal Computer                       938\n",
       "XB        Xbox                                    803\n",
       "GBA       Game Boy Advance                        786\n",
       "GC        GameCube                                542\n",
       "3DS       Nintendo 3DS                            499\n",
       "PSV       PlayStation Vita                        410\n",
       "PS4       PlayStation 4                           336\n",
       "N64       Nintendo 64                             316\n",
       "SNES      Super Nintendo Entertainment System     239\n",
       "XOne      Xbox One                                213\n",
       "SAT       Sega Saturn                             173\n",
       "WiiU      Nintendo Wii U                          143\n",
       "2600      Atari 2600                              116\n",
       "NES       Nintendo Entertainment System            98\n",
       "GB        Game Boy                                 97\n",
       "DC        Dreamcast                                52\n",
       "GEN       Genesis (Mega Drive)                     27\n",
       "NG        Neo Geo                                  12\n",
       "SCD       Sega CD                                   6\n",
       "WS        WonderSwan                                6\n",
       "3DO       3DO Interactive Multiplayer               3\n",
       "TG16      TurboGrafx-16                             2\n",
       "PCFX      PC-FX                                     1\n",
       "GG        Game Gear                                 1\n",
       "Name: count, dtype: int64"
      ]
     },
     "execution_count": 53,
     "metadata": {},
     "output_type": "execute_result"
    }
   ],
   "source": [
    "(\n",
    "    vgsales_without_na\n",
    "    .groupby([\"Platform\", \"Platform_fullname\"])[[\"Platform\", \"Platform_fullname\"]]\n",
    "    .value_counts()\n",
    "    .sort_values(ascending=False)\n",
    ")"
   ]
  },
  {
   "cell_type": "markdown",
   "metadata": {},
   "source": [
    "## Developer"
   ]
  },
  {
   "cell_type": "code",
   "execution_count": 54,
   "metadata": {},
   "outputs": [],
   "source": [
    "console_developers = {\n",
    "    'DS': 'Nintendo',\n",
    "    'PS2': 'Sony',\n",
    "    'PS3': 'Sony',\n",
    "    'Wii': 'Nintendo',\n",
    "    'X360': 'Microsoft',\n",
    "    'PSP': 'Sony',\n",
    "    'PS': 'Sony',\n",
    "    'PC': 'Various',\n",
    "    'XB': 'Microsoft',\n",
    "    'GBA': 'Nintendo',\n",
    "    'GC': 'Nintendo',\n",
    "    '3DS': 'Nintendo',\n",
    "    'PSV': 'Sony',\n",
    "    'PS4': 'Sony',\n",
    "    'N64': 'Nintendo',\n",
    "    'SNES': 'Nintendo',\n",
    "    'XOne': 'Microsoft',\n",
    "    'SAT': 'Sega',\n",
    "    'WiiU': 'Nintendo',\n",
    "    '2600': 'Atari',\n",
    "    'NES': 'Nintendo',\n",
    "    'GB': 'Nintendo',\n",
    "    'DC': 'Sega',\n",
    "    'GEN': 'Sega',\n",
    "    'NG': 'SNK',\n",
    "    'SCD': 'Sega',\n",
    "    'WS': 'Bandai',\n",
    "    '3DO': 'The 3DO Company',\n",
    "    'TG16': 'NEC',\n",
    "    'GG': 'Sega',\n",
    "    'PCFX': 'NEC'\n",
    "}\n",
    "\n"
   ]
  },
  {
   "cell_type": "code",
   "execution_count": null,
   "metadata": {},
   "outputs": [],
   "source": [
    "# Apply the mapping to the dataset\n",
    "vgsales_without_na.loc[:,\"console_developers\"] = vgsales_without_na[\"Platform\"].map(console_developers)"
   ]
  },
  {
   "cell_type": "code",
   "execution_count": 56,
   "metadata": {},
   "outputs": [
    {
     "data": {
      "text/plain": [
       "Platform  console_developers\n",
       "DS        Nintendo              2131\n",
       "PS2       Sony                  2127\n",
       "PS3       Sony                  1304\n",
       "Wii       Nintendo              1290\n",
       "X360      Microsoft             1234\n",
       "PSP       Sony                  1197\n",
       "PS        Sony                  1189\n",
       "PC        Various                938\n",
       "XB        Microsoft              803\n",
       "GBA       Nintendo               786\n",
       "GC        Nintendo               542\n",
       "3DS       Nintendo               499\n",
       "PSV       Sony                   410\n",
       "PS4       Sony                   336\n",
       "N64       Nintendo               316\n",
       "SNES      Nintendo               239\n",
       "XOne      Microsoft              213\n",
       "SAT       Sega                   173\n",
       "WiiU      Nintendo               143\n",
       "2600      Atari                  116\n",
       "NES       Nintendo                98\n",
       "GB        Nintendo                97\n",
       "DC        Sega                    52\n",
       "GEN       Sega                    27\n",
       "NG        SNK                     12\n",
       "SCD       Sega                     6\n",
       "WS        Bandai                   6\n",
       "3DO       The 3DO Company          3\n",
       "TG16      NEC                      2\n",
       "PCFX      NEC                      1\n",
       "GG        Sega                     1\n",
       "Name: count, dtype: int64"
      ]
     },
     "execution_count": 56,
     "metadata": {},
     "output_type": "execute_result"
    }
   ],
   "source": [
    "(\n",
    "    vgsales_without_na\n",
    "    .groupby([\"Platform\", \"console_developers\"])[[\"Platform\", \"console_developers\"]]\n",
    "    .value_counts()\n",
    "    .sort_values(ascending=False)\n",
    ")"
   ]
  },
  {
   "cell_type": "markdown",
   "metadata": {},
   "source": [
    "## Sales"
   ]
  },
  {
   "cell_type": "code",
   "execution_count": 57,
   "metadata": {},
   "outputs": [],
   "source": [
    "# A treshold to filter the sales\n",
    "threshold_sales = 5\n",
    "\n",
    "# Filter the dataset\n",
    "vgsales_filtered_gl = vgsales_without_na[vgsales_without_na[\"Global_Sales\"] < threshold_sales]\n",
    "vgsales_filtered_na = vgsales_without_na[vgsales_without_na[\"NA_Sales\"] < threshold_sales]\n",
    "vgsales_filtered_eu = vgsales_without_na[vgsales_without_na[\"EU_Sales\"] < threshold_sales]\n",
    "vgsales_filtered_jp = vgsales_without_na[vgsales_without_na[\"JP_Sales\"] < threshold_sales]\n",
    "vgsales_filtered_ot = vgsales_without_na[vgsales_without_na[\"Other_Sales\"] < threshold_sales]"
   ]
  },
  {
   "cell_type": "code",
   "execution_count": 58,
   "metadata": {},
   "outputs": [
    {
     "data": {
      "image/png": "[encoded data removed]",
      "text/plain": [
       "<Figure size 1440x1440 with 15 Axes>"
      ]
     },
     "metadata": {
      "needs_background": "light"
     },
     "output_type": "display_data"
    }
   ],
   "source": [
    "plt.figure(figsize=(20, 20))\n",
    "\n",
    "all_d = [vgsales_filtered_gl, vgsales_filtered_na, vgsales_filtered_eu, vgsales_filtered_jp, vgsales_filtered_ot]\n",
    "columns = [\"Global_Sales\", \"NA_Sales\", \"EU_Sales\", \"JP_Sales\", \"Other_Sales\"]\n",
    "i = 1\n",
    "\n",
    "for n, d in enumerate(all_d):\n",
    "    plt.subplot(5, 3, i)\n",
    "    sns.histplot(vgsales_without_na, x=columns[n]) # \n",
    "    i += 1\n",
    "\n",
    "    plt.subplot(5, 3, i)\n",
    "    sns.boxplot(x=columns[n], data=vgsales_without_na)\n",
    "    i += 1\n",
    "\n",
    "    plt.subplot(5, 3, i)\n",
    "    sns.histplot(d, x=columns[n])\n",
    "    i += 1"
   ]
  },
  {
   "cell_type": "code",
   "execution_count": 59,
   "metadata": {},
   "outputs": [
    {
     "data": {
      "text/plain": [
       "array(['Wii Sports', 'Super Mario Bros.', 'Mario Kart Wii',\n",
       "       'Wii Sports Resort', 'Pokemon Red/Pokemon Blue', 'Tetris',\n",
       "       'New Super Mario Bros.', 'Wii Play', 'New Super Mario Bros. Wii',\n",
       "       'Duck Hunt', 'Nintendogs', 'Mario Kart DS',\n",
       "       'Pokemon Gold/Pokemon Silver', 'Wii Fit', 'Wii Fit Plus',\n",
       "       'Kinect Adventures!', 'Grand Theft Auto V',\n",
       "       'Grand Theft Auto: San Andreas', 'Super Mario World',\n",
       "       'Brain Age: Train Your Brain in Minutes a Day',\n",
       "       'Pokemon Diamond/Pokemon Pearl', 'Super Mario Land',\n",
       "       'Super Mario Bros. 3', 'Grand Theft Auto: Vice City',\n",
       "       'Pokemon Ruby/Pokemon Sapphire', 'Pokemon Black/Pokemon White',\n",
       "       'Brain Age 2: More Training in Minutes a Day',\n",
       "       'Gran Turismo 3: A-Spec', 'Call of Duty: Modern Warfare 3',\n",
       "       'Pokémon Yellow: Special Pikachu Edition',\n",
       "       'Call of Duty: Black Ops', 'Pokemon X/Pokemon Y',\n",
       "       'Call of Duty: Black Ops 3', 'Call of Duty: Black Ops II',\n",
       "       'Call of Duty: Modern Warfare 2', 'Grand Theft Auto III',\n",
       "       'Super Smash Bros. Brawl', 'Animal Crossing: Wild World',\n",
       "       'Mario Kart 7', 'Halo 3', 'Pokemon HeartGold/Pokemon SoulSilver',\n",
       "       'Super Mario 64', 'Gran Turismo 4', 'Super Mario Galaxy',\n",
       "       'Pokemon Omega Ruby/Pokemon Alpha Sapphire',\n",
       "       'Super Mario Land 2: 6 Golden Coins', 'Grand Theft Auto IV',\n",
       "       'Gran Turismo', 'Super Mario 3D Land', 'Gran Turismo 5',\n",
       "       'Super Mario All-Stars', 'Pokemon FireRed/Pokemon LeafGreen',\n",
       "       'Just Dance 3', 'Call of Duty: Ghosts', 'Halo: Reach',\n",
       "       'Mario Kart 64', 'New Super Mario Bros. 2', 'Halo 4',\n",
       "       'Final Fantasy VII', 'Just Dance 2', 'Gran Turismo 2',\n",
       "       'Call of Duty 4: Modern Warfare', 'Donkey Kong Country',\n",
       "       'Minecraft', 'Animal Crossing: New Leaf', 'Mario Party DS',\n",
       "       'The Elder Scrolls V: Skyrim', 'Super Mario Kart', 'FIFA 16',\n",
       "       'Wii Party', 'Halo 2', 'Mario Party 8',\n",
       "       'Pokemon Black 2/Pokemon White 2', 'FIFA Soccer 13', 'The Sims 3',\n",
       "       'GoldenEye 007', 'Mario & Sonic at the Olympic Games',\n",
       "       'Final Fantasy X', 'Final Fantasy VIII',\n",
       "       'Pokémon Platinum Version', 'Pac-Man',\n",
       "       'Grand Theft Auto: Liberty City Stories', 'Super Mario Galaxy 2',\n",
       "       'Star Wars Battlefront (2015)', 'Call of Duty: Advanced Warfare',\n",
       "       'The Legend of Zelda: Ocarina of Time',\n",
       "       'Crash Bandicoot 2: Cortex Strikes Back', 'Super Mario Bros. 2',\n",
       "       'Super Smash Bros. for Wii U and 3DS',\n",
       "       'Call of Duty: World at War', 'Battlefield 3',\n",
       "       'The Legend of Zelda: Twilight Princess', 'Just Dance',\n",
       "       'Need for Speed Underground', 'Tekken 3',\n",
       "       'Crash Bandicoot 3: Warped', 'Super Smash Bros. Melee',\n",
       "       'Mario Kart 8', 'Fallout 4', 'Mario Kart: Double Dash!!',\n",
       "       'Just Dance 4', 'FIFA 14', 'Need for Speed Underground 2',\n",
       "       'Medal of Honor: Frontline', \"Uncharted 3: Drake's Deception\",\n",
       "       'Crash Bandicoot', 'Zumba Fitness', 'Gears of War 2',\n",
       "       'Uncharted 2: Among Thieves', 'FIFA 12', 'Big Brain Academy',\n",
       "       'Red Dead Redemption', 'FIFA 15', 'Donkey Kong Country Returns',\n",
       "       'The Legend of Zelda', \"Assassin's Creed III\",\n",
       "       'Halo: Combat Evolved', 'Pokémon Emerald Version',\n",
       "       'Kingdom Hearts', 'Pokémon Crystal Version', 'Halo 3: ODST',\n",
       "       'Super Mario Sunshine', 'Street Fighter II: The World Warrior',\n",
       "       'World of Warcraft', 'Driver', 'Kinect Sports', 'Gears of War 3',\n",
       "       'Gears of War', 'Metal Gear Solid 2: Sons of Liberty',\n",
       "       'Sonic the Hedgehog 2', 'Metal Gear Solid 4: Guns of the Patriots',\n",
       "       'Metal Gear Solid', 'The Last of Us', 'Final Fantasy XII',\n",
       "       'LittleBigPlanet',\n",
       "       'Dragon Quest IX: Sentinels of the Starry Skies',\n",
       "       'LEGO Star Wars: The Complete Saga', 'Resident Evil 2', 'Tekken 2',\n",
       "       'Cooking Mama', 'Destiny', \"Assassin's Creed II\",\n",
       "       'Super Smash Bros.', \"Assassin's Creed\", 'Batman: Arkham City',\n",
       "       'Forza Motorsport 3', 'Monster Hunter Freedom Unite',\n",
       "       'Super Mario Advance', 'Mario Kart: Super Circuit',\n",
       "       'Pokemon Stadium', 'Crash Bandicoot: The Wrath of Cortex',\n",
       "       'Final Fantasy XIII', 'Dr. Mario', 'Pokemon Pinball',\n",
       "       'Final Fantasy IX', 'Final Fantasy X-2', 'Donkey Kong 64',\n",
       "       'Professor Layton and the Curious Village', 'Tomb Raider II',\n",
       "       'Dragon Quest VIII: Journey of the Cursed King', 'Diablo III',\n",
       "       'New Super Mario Bros. U', 'Super Mario Land 3: Wario Land',\n",
       "       'The Legend of Zelda: Phantom Hourglass',\n",
       "       \"Donkey Kong Country 2: Diddy's Kong Quest\", 'Tomodachi Life',\n",
       "       'Medal of Honor: Rising Sun', \"Kirby's Dream Land\", 'Fable III',\n",
       "       'Microsoft Flight Simulator', 'Guitar Hero II', 'Resident Evil 5',\n",
       "       'Grand Theft Auto: Vice City Stories', 'FIFA Soccer 11',\n",
       "       'Resident Evil', \"Tony Hawk's Pro Skater\", 'Warzone 2100'],\n",
       "      dtype=object)"
      ]
     },
     "execution_count": 59,
     "metadata": {},
     "output_type": "execute_result"
    }
   ],
   "source": [
    "vgsales_without_na[vgsales_without_na[\"Global_Sales\"] > threshold_sales].Name.unique()"
   ]
  },
  {
   "cell_type": "markdown",
   "metadata": {},
   "source": [
    "## Year"
   ]
  },
  {
   "cell_type": "code",
   "execution_count": 60,
   "metadata": {},
   "outputs": [
    {
     "data": {
      "text/plain": [
       "Year\n",
       "2009.0    1431\n",
       "2008.0    1428\n",
       "2010.0    1257\n",
       "2007.0    1201\n",
       "2011.0    1136\n",
       "2006.0    1008\n",
       "2005.0     936\n",
       "2002.0     829\n",
       "2003.0     775\n",
       "2004.0     744\n",
       "2012.0     655\n",
       "2015.0     614\n",
       "2014.0     580\n",
       "2013.0     546\n",
       "2001.0     482\n",
       "1998.0     379\n",
       "2000.0     349\n",
       "2016.0     342\n",
       "1999.0     338\n",
       "1997.0     289\n",
       "1996.0     263\n",
       "1995.0     219\n",
       "1994.0     121\n",
       "1993.0      60\n",
       "1981.0      46\n",
       "1992.0      43\n",
       "1991.0      41\n",
       "1982.0      36\n",
       "1986.0      21\n",
       "1983.0      17\n",
       "1989.0      17\n",
       "1990.0      16\n",
       "1987.0      16\n",
       "1988.0      15\n",
       "1985.0      14\n",
       "1984.0      14\n",
       "1980.0       9\n",
       "2017.0       3\n",
       "2020.0       1\n",
       "Name: count, dtype: int64"
      ]
     },
     "execution_count": 60,
     "metadata": {},
     "output_type": "execute_result"
    }
   ],
   "source": [
    "vgsales_without_na.Year.value_counts().sort_values(ascending=False)"
   ]
  },
  {
   "cell_type": "code",
   "execution_count": 61,
   "metadata": {},
   "outputs": [
    {
     "data": {
      "text/plain": [
       "Year\n",
       "1980.0       9\n",
       "1981.0      46\n",
       "1982.0      36\n",
       "1983.0      17\n",
       "1984.0      14\n",
       "1985.0      14\n",
       "1986.0      21\n",
       "1987.0      16\n",
       "1988.0      15\n",
       "1989.0      17\n",
       "1990.0      16\n",
       "1991.0      41\n",
       "1992.0      43\n",
       "1993.0      60\n",
       "1994.0     121\n",
       "1995.0     219\n",
       "1996.0     263\n",
       "1997.0     289\n",
       "1998.0     379\n",
       "1999.0     338\n",
       "2000.0     349\n",
       "2001.0     482\n",
       "2002.0     829\n",
       "2003.0     775\n",
       "2004.0     744\n",
       "2005.0     936\n",
       "2006.0    1008\n",
       "2007.0    1201\n",
       "2008.0    1428\n",
       "2009.0    1431\n",
       "2010.0    1257\n",
       "2011.0    1136\n",
       "2012.0     655\n",
       "2013.0     546\n",
       "2014.0     580\n",
       "2015.0     614\n",
       "2016.0     342\n",
       "2017.0       3\n",
       "2020.0       1\n",
       "Name: count, dtype: int64"
      ]
     },
     "execution_count": 61,
     "metadata": {},
     "output_type": "execute_result"
    }
   ],
   "source": [
    "vgsales_without_na.Year.value_counts().sort_index(axis=0)"
   ]
  },
  {
   "cell_type": "markdown",
   "metadata": {},
   "source": [
    "For the year 2017 there are only 3 titles and 1 for the year 2020.\n",
    "\n",
    "Therefore, I selected the range from 1980 to 2016."
   ]
  },
  {
   "cell_type": "code",
   "execution_count": 62,
   "metadata": {},
   "outputs": [],
   "source": [
    "vgsales_filtered_year = vgsales_without_na[vgsales_without_na[\"Year\"] < 2017]"
   ]
  },
  {
   "cell_type": "markdown",
   "metadata": {},
   "source": [
    "# Conclusions"
   ]
  },
  {
   "cell_type": "markdown",
   "metadata": {},
   "source": [
    "There are a lot of outliers in the sales features (`Global_Sales`, `NA_Sales`, `EU_Sales`, `JP_Sales`, `Other_Sales`), but they correspond to important video game titles that cannot be excluded from the analysis. So I included the outliers in the analysis.\n",
    "\n",
    "The features were selected based on the plots above and on the report generated with `ProfileReport`.\n",
    "\n",
    "\n",
    "\n",
    "**Excluded Features**:\n",
    "- `Rank` (not interesting)\n",
    "- `Platform` (acronyms, I used the full names of the console, see `Platform_fullname`)\n",
    "\n",
    "**Included Features**:\n",
    "- `Name`\n",
    "- `Year` (only year from 1980 to 2016)\n",
    "- `Genre`\n",
    "- `Publisher`\n",
    "- `NA_Sales`\n",
    "- `EU_Sales`\n",
    "- `JP_Sales`\n",
    "- `Other_Sales`\n",
    "- `Global_Sales`\n",
    "- `Platform_fullname`\n",
    "\n"
   ]
  },
  {
   "cell_type": "code",
   "execution_count": 63,
   "metadata": {},
   "outputs": [
    {
     "data": {
      "text/plain": [
       "Index(['Rank', 'Name', 'Platform', 'Year', 'Genre', 'Publisher', 'NA_Sales',\n",
       "       'EU_Sales', 'JP_Sales', 'Other_Sales', 'Global_Sales',\n",
       "       'Platform_fullname', 'console_developers'],\n",
       "      dtype='object')"
      ]
     },
     "execution_count": 63,
     "metadata": {},
     "output_type": "execute_result"
    }
   ],
   "source": [
    "vgsales_filtered_year.columns"
   ]
  },
  {
   "cell_type": "code",
   "execution_count": 64,
   "metadata": {},
   "outputs": [],
   "source": [
    "selected_features = [\n",
    "    \"Name\", \"Year\", \"Genre\", \"Publisher\", \"NA_Sales\", \"EU_Sales\",\n",
    "    \"JP_Sales\", \"Other_Sales\", \"Global_Sales\", \"Platform_fullname\",\n",
    "    \"console_developers\"\n",
    "]"
   ]
  },
  {
   "cell_type": "code",
   "execution_count": 65,
   "metadata": {},
   "outputs": [],
   "source": [
    "data_to_csv = vgsales_filtered_year[selected_features]"
   ]
  },
  {
   "cell_type": "code",
   "execution_count": 66,
   "metadata": {},
   "outputs": [],
   "source": [
    "# Dictionary with new column names\n",
    "new_column_names = {\n",
    "    \"NA_Sales\":\"Sales North America\",\n",
    "    \"EU_Sales\":\"Sales Europe\",\n",
    "    \"JP_Sales\":\"Sales Japan\",\n",
    "    \"Other_Sales\":\"Sales other regions\",\n",
    "    \"Global_Sales\":\"Sales worldwide\",\n",
    "    \"Platform_fullname\":\"Platform\",\n",
    "    \"console_developers\":\"Console Developer\"\n",
    "}\n",
    "\n",
    "# Rename columns\n",
    "data_to_csv = data_to_csv.rename(columns=new_column_names)"
   ]
  },
  {
   "cell_type": "code",
   "execution_count": 67,
   "metadata": {},
   "outputs": [
    {
     "data": {
      "text/plain": [
       "Index(['Name', 'Year', 'Genre', 'Publisher', 'Sales North America',\n",
       "       'Sales Europe', 'Sales Japan', 'Sales other regions', 'Sales worldwide',\n",
       "       'Platform', 'Console Developer'],\n",
       "      dtype='object')"
      ]
     },
     "execution_count": 67,
     "metadata": {},
     "output_type": "execute_result"
    }
   ],
   "source": [
    "data_to_csv.columns"
   ]
  },
  {
   "cell_type": "code",
   "execution_count": 68,
   "metadata": {},
   "outputs": [],
   "source": [
    "# conver \"Year\" to integer\n",
    "data_to_csv[\"Year\"] = data_to_csv[\"Year\"].astype(int)"
   ]
  },
  {
   "cell_type": "code",
   "execution_count": 69,
   "metadata": {},
   "outputs": [
    {
     "name": "stdout",
     "output_type": "stream",
     "text": [
      "<class 'pandas.core.frame.DataFrame'>\n",
      "Index: 16287 entries, 0 to 16597\n",
      "Data columns (total 11 columns):\n",
      " #   Column               Non-Null Count  Dtype  \n",
      "---  ------               --------------  -----  \n",
      " 0   Name                 16287 non-null  object \n",
      " 1   Year                 16287 non-null  int32  \n",
      " 2   Genre                16287 non-null  object \n",
      " 3   Publisher            16287 non-null  object \n",
      " 4   Sales North America  16287 non-null  float64\n",
      " 5   Sales Europe         16287 non-null  float64\n",
      " 6   Sales Japan          16287 non-null  float64\n",
      " 7   Sales other regions  16287 non-null  float64\n",
      " 8   Sales worldwide      16287 non-null  float64\n",
      " 9   Platform             16287 non-null  object \n",
      " 10  Console Developer    16287 non-null  object \n",
      "dtypes: float64(5), int32(1), object(5)\n",
      "memory usage: 1.4+ MB\n"
     ]
    }
   ],
   "source": [
    "data_to_csv.info()"
   ]
  },
  {
   "cell_type": "code",
   "execution_count": 70,
   "metadata": {},
   "outputs": [],
   "source": [
    "data_to_csv.to_csv(\"data/global_videogame_sales.csv\", index=False)"
   ]
  },
  {
   "cell_type": "markdown",
   "metadata": {},
   "source": [
    "# Create report for selected features"
   ]
  },
  {
   "cell_type": "code",
   "execution_count": 71,
   "metadata": {},
   "outputs": [],
   "source": [
    "profile_sf = ProfileReport(data_to_csv, title=\"Profiling Report for Selected Features\")"
   ]
  },
  {
   "cell_type": "code",
   "execution_count": 72,
   "metadata": {},
   "outputs": [
    {
     "name": "stderr",
     "output_type": "stream",
     "text": [
      "Summarize dataset:  72%|███████▏  | 13/18 [00:00<00:00,  5.21it/s, Calculate auto correlation]          c:\\Users\\danie\\AppData\\Local\\Programs\\Python\\Python39\\lib\\site-packages\\ydata_profiling\\model\\correlations.py:66: UserWarning: There was an attempt to calculate the auto correlation, but this failed.\n",
      "To hide this warning, disable the calculation\n",
      "(using `df.profile_report(correlations={\"auto\": {\"calculate\": False}})`\n",
      "If this is problematic for your use case, please report this as an issue:\n",
      "https://github.com/ydataai/ydata-profiling/issues\n",
      "(include the error message: 'could not convert string to float: 'Nintendo'')\n",
      "  warnings.warn(\n",
      "Summarize dataset: 100%|██████████| 56/56 [00:03<00:00, 14.30it/s, Completed]                                       \n",
      "Generate report structure: 100%|██████████| 1/1 [00:03<00:00,  3.98s/it]\n",
      "Render HTML: 100%|██████████| 1/1 [00:00<00:00,  1.02it/s]\n",
      "Export report to file: 100%|██████████| 1/1 [00:00<00:00, 111.09it/s]\n"
     ]
    }
   ],
   "source": [
    "profile_sf.to_file(\"report_selected_features.html\")"
   ]
  },
  {
   "cell_type": "markdown",
   "metadata": {},
   "source": [
    "# Sales worldwide\n",
    "\n",
    "In Tableau, I can print the max `Sales worldwide`, but not the min `Sales worldwide`\n",
    "because there are more Title with the same minimum value after the year 1996.\n"
   ]
  },
  {
   "cell_type": "code",
   "execution_count": 73,
   "metadata": {},
   "outputs": [
    {
     "data": {
      "text/html": [
       "<div>\n",
       "<style scoped>\n",
       "    .dataframe tbody tr th:only-of-type {\n",
       "        vertical-align: middle;\n",
       "    }\n",
       "\n",
       "    .dataframe tbody tr th {\n",
       "        vertical-align: top;\n",
       "    }\n",
       "\n",
       "    .dataframe thead th {\n",
       "        text-align: right;\n",
       "    }\n",
       "</style>\n",
       "<table border=\"1\" class=\"dataframe\">\n",
       "  <thead>\n",
       "    <tr style=\"text-align: right;\">\n",
       "      <th></th>\n",
       "      <th>Name</th>\n",
       "      <th>Sales worldwide</th>\n",
       "      <th>Counts</th>\n",
       "    </tr>\n",
       "  </thead>\n",
       "  <tbody>\n",
       "    <tr>\n",
       "      <th>42</th>\n",
       "      <td>Donkey Kong Country 2: Diddy's Kong Quest</td>\n",
       "      <td>5.15</td>\n",
       "      <td>1</td>\n",
       "    </tr>\n",
       "    <tr>\n",
       "      <th>205</th>\n",
       "      <td>Warcraft II: Tides of Darkness</td>\n",
       "      <td>4.21</td>\n",
       "      <td>1</td>\n",
       "    </tr>\n",
       "    <tr>\n",
       "      <th>171</th>\n",
       "      <td>Super Mario World 2: Yoshi's Island</td>\n",
       "      <td>4.12</td>\n",
       "      <td>1</td>\n",
       "    </tr>\n",
       "    <tr>\n",
       "      <th>112</th>\n",
       "      <td>Namco Museum Vol.1</td>\n",
       "      <td>3.84</td>\n",
       "      <td>1</td>\n",
       "    </tr>\n",
       "    <tr>\n",
       "      <th>179</th>\n",
       "      <td>Tekken</td>\n",
       "      <td>3.24</td>\n",
       "      <td>1</td>\n",
       "    </tr>\n",
       "    <tr>\n",
       "      <th>...</th>\n",
       "      <td>...</td>\n",
       "      <td>...</td>\n",
       "      <td>...</td>\n",
       "    </tr>\n",
       "    <tr>\n",
       "      <th>214</th>\n",
       "      <td>You Don't Know Jack</td>\n",
       "      <td>0.02</td>\n",
       "      <td>1</td>\n",
       "    </tr>\n",
       "    <tr>\n",
       "      <th>6</th>\n",
       "      <td>Aquanaut's Holiday</td>\n",
       "      <td>0.02</td>\n",
       "      <td>1</td>\n",
       "    </tr>\n",
       "    <tr>\n",
       "      <th>5</th>\n",
       "      <td>America Oudan Ultra-Quiz</td>\n",
       "      <td>0.02</td>\n",
       "      <td>1</td>\n",
       "    </tr>\n",
       "    <tr>\n",
       "      <th>167</th>\n",
       "      <td>Super Dodge Ball</td>\n",
       "      <td>0.02</td>\n",
       "      <td>1</td>\n",
       "    </tr>\n",
       "    <tr>\n",
       "      <th>131</th>\n",
       "      <td>Psychic Detective</td>\n",
       "      <td>0.01</td>\n",
       "      <td>1</td>\n",
       "    </tr>\n",
       "  </tbody>\n",
       "</table>\n",
       "<p>219 rows × 3 columns</p>\n",
       "</div>"
      ],
      "text/plain": [
       "                                          Name  Sales worldwide  Counts\n",
       "42   Donkey Kong Country 2: Diddy's Kong Quest             5.15       1\n",
       "205             Warcraft II: Tides of Darkness             4.21       1\n",
       "171        Super Mario World 2: Yoshi's Island             4.12       1\n",
       "112                         Namco Museum Vol.1             3.84       1\n",
       "179                                     Tekken             3.24       1\n",
       "..                                         ...              ...     ...\n",
       "214                        You Don't Know Jack             0.02       1\n",
       "6                           Aquanaut's Holiday             0.02       1\n",
       "5                     America Oudan Ultra-Quiz             0.02       1\n",
       "167                           Super Dodge Ball             0.02       1\n",
       "131                          Psychic Detective             0.01       1\n",
       "\n",
       "[219 rows x 3 columns]"
      ]
     },
     "execution_count": 73,
     "metadata": {},
     "output_type": "execute_result"
    }
   ],
   "source": [
    "(\n",
    "    data_to_csv[data_to_csv[\"Year\"] == 1995]\n",
    "    .groupby([\"Name\", \"Sales worldwide\"])[[\"Name\", \"Sales worldwide\"]]\n",
    "    .value_counts()\n",
    "    .reset_index(name='Counts')\n",
    "    .sort_values(ascending=False, by=\"Sales worldwide\")\n",
    ")"
   ]
  },
  {
   "cell_type": "code",
   "execution_count": 74,
   "metadata": {},
   "outputs": [
    {
     "data": {
      "text/html": [
       "<div>\n",
       "<style scoped>\n",
       "    .dataframe tbody tr th:only-of-type {\n",
       "        vertical-align: middle;\n",
       "    }\n",
       "\n",
       "    .dataframe tbody tr th {\n",
       "        vertical-align: top;\n",
       "    }\n",
       "\n",
       "    .dataframe thead th {\n",
       "        text-align: right;\n",
       "    }\n",
       "</style>\n",
       "<table border=\"1\" class=\"dataframe\">\n",
       "  <thead>\n",
       "    <tr style=\"text-align: right;\">\n",
       "      <th></th>\n",
       "      <th>Name</th>\n",
       "      <th>Sales worldwide</th>\n",
       "      <th>Counts</th>\n",
       "    </tr>\n",
       "  </thead>\n",
       "  <tbody>\n",
       "    <tr>\n",
       "      <th>160</th>\n",
       "      <td>Pokemon Red/Pokemon Blue</td>\n",
       "      <td>31.37</td>\n",
       "      <td>1</td>\n",
       "    </tr>\n",
       "    <tr>\n",
       "      <th>210</th>\n",
       "      <td>Super Mario 64</td>\n",
       "      <td>11.89</td>\n",
       "      <td>1</td>\n",
       "    </tr>\n",
       "    <tr>\n",
       "      <th>105</th>\n",
       "      <td>Mario Kart 64</td>\n",
       "      <td>9.87</td>\n",
       "      <td>1</td>\n",
       "    </tr>\n",
       "    <tr>\n",
       "      <th>37</th>\n",
       "      <td>Crash Bandicoot</td>\n",
       "      <td>6.82</td>\n",
       "      <td>1</td>\n",
       "    </tr>\n",
       "    <tr>\n",
       "      <th>221</th>\n",
       "      <td>Tekken 2</td>\n",
       "      <td>5.74</td>\n",
       "      <td>1</td>\n",
       "    </tr>\n",
       "    <tr>\n",
       "      <th>...</th>\n",
       "      <td>...</td>\n",
       "      <td>...</td>\n",
       "      <td>...</td>\n",
       "    </tr>\n",
       "    <tr>\n",
       "      <th>50</th>\n",
       "      <td>Discworld II: Mortality Bytes!</td>\n",
       "      <td>0.02</td>\n",
       "      <td>1</td>\n",
       "    </tr>\n",
       "    <tr>\n",
       "      <th>25</th>\n",
       "      <td>Brain Dead 13</td>\n",
       "      <td>0.02</td>\n",
       "      <td>1</td>\n",
       "    </tr>\n",
       "    <tr>\n",
       "      <th>184</th>\n",
       "      <td>Shippuu Mahou Daisakusen: Kingdom-Grandprix</td>\n",
       "      <td>0.02</td>\n",
       "      <td>1</td>\n",
       "    </tr>\n",
       "    <tr>\n",
       "      <th>249</th>\n",
       "      <td>Victory Spike</td>\n",
       "      <td>0.01</td>\n",
       "      <td>1</td>\n",
       "    </tr>\n",
       "    <tr>\n",
       "      <th>108</th>\n",
       "      <td>Meru Purana</td>\n",
       "      <td>0.01</td>\n",
       "      <td>1</td>\n",
       "    </tr>\n",
       "  </tbody>\n",
       "</table>\n",
       "<p>263 rows × 3 columns</p>\n",
       "</div>"
      ],
      "text/plain": [
       "                                            Name  Sales worldwide  Counts\n",
       "160                     Pokemon Red/Pokemon Blue            31.37       1\n",
       "210                               Super Mario 64            11.89       1\n",
       "105                                Mario Kart 64             9.87       1\n",
       "37                               Crash Bandicoot             6.82       1\n",
       "221                                     Tekken 2             5.74       1\n",
       "..                                           ...              ...     ...\n",
       "50                Discworld II: Mortality Bytes!             0.02       1\n",
       "25                                 Brain Dead 13             0.02       1\n",
       "184  Shippuu Mahou Daisakusen: Kingdom-Grandprix             0.02       1\n",
       "249                                Victory Spike             0.01       1\n",
       "108                                  Meru Purana             0.01       1\n",
       "\n",
       "[263 rows x 3 columns]"
      ]
     },
     "execution_count": 74,
     "metadata": {},
     "output_type": "execute_result"
    }
   ],
   "source": [
    "(\n",
    "    data_to_csv[data_to_csv[\"Year\"] == 1996]\n",
    "    .groupby([\"Name\", \"Sales worldwide\"])[[\"Name\", \"Sales worldwide\"]]\n",
    "    .value_counts()\n",
    "    .reset_index(name='Counts')\n",
    "    .sort_values(ascending=False, by=\"Sales worldwide\")\n",
    ")"
   ]
  },
  {
   "cell_type": "code",
   "execution_count": 75,
   "metadata": {},
   "outputs": [
    {
     "data": {
      "text/html": [
       "<div>\n",
       "<style scoped>\n",
       "    .dataframe tbody tr th:only-of-type {\n",
       "        vertical-align: middle;\n",
       "    }\n",
       "\n",
       "    .dataframe tbody tr th {\n",
       "        vertical-align: top;\n",
       "    }\n",
       "\n",
       "    .dataframe thead th {\n",
       "        text-align: right;\n",
       "    }\n",
       "</style>\n",
       "<table border=\"1\" class=\"dataframe\">\n",
       "  <thead>\n",
       "    <tr style=\"text-align: right;\">\n",
       "      <th></th>\n",
       "      <th>Name</th>\n",
       "      <th>Sales worldwide</th>\n",
       "      <th>Counts</th>\n",
       "    </tr>\n",
       "  </thead>\n",
       "  <tbody>\n",
       "    <tr>\n",
       "      <th>246</th>\n",
       "      <td>Grand Theft Auto: San Andreas</td>\n",
       "      <td>20.81</td>\n",
       "      <td>1</td>\n",
       "    </tr>\n",
       "    <tr>\n",
       "      <th>244</th>\n",
       "      <td>Gran Turismo 4</td>\n",
       "      <td>11.66</td>\n",
       "      <td>1</td>\n",
       "    </tr>\n",
       "    <tr>\n",
       "      <th>446</th>\n",
       "      <td>Pokemon FireRed/Pokemon LeafGreen</td>\n",
       "      <td>10.49</td>\n",
       "      <td>1</td>\n",
       "    </tr>\n",
       "    <tr>\n",
       "      <th>581</th>\n",
       "      <td>Super Mario 64</td>\n",
       "      <td>10.42</td>\n",
       "      <td>1</td>\n",
       "    </tr>\n",
       "    <tr>\n",
       "      <th>257</th>\n",
       "      <td>Halo 2</td>\n",
       "      <td>8.49</td>\n",
       "      <td>1</td>\n",
       "    </tr>\n",
       "    <tr>\n",
       "      <th>...</th>\n",
       "      <td>...</td>\n",
       "      <td>...</td>\n",
       "      <td>...</td>\n",
       "    </tr>\n",
       "    <tr>\n",
       "      <th>655</th>\n",
       "      <td>Tiger Woods PGA Tour 2005</td>\n",
       "      <td>0.01</td>\n",
       "      <td>1</td>\n",
       "    </tr>\n",
       "    <tr>\n",
       "      <th>221</th>\n",
       "      <td>Football Manager 2005</td>\n",
       "      <td>0.01</td>\n",
       "      <td>1</td>\n",
       "    </tr>\n",
       "    <tr>\n",
       "      <th>388</th>\n",
       "      <td>Myst IV: Revelation</td>\n",
       "      <td>0.01</td>\n",
       "      <td>1</td>\n",
       "    </tr>\n",
       "    <tr>\n",
       "      <th>706</th>\n",
       "      <td>Wade Hixton's Counter Punch</td>\n",
       "      <td>0.01</td>\n",
       "      <td>1</td>\n",
       "    </tr>\n",
       "    <tr>\n",
       "      <th>457</th>\n",
       "      <td>Powerdrome</td>\n",
       "      <td>0.01</td>\n",
       "      <td>1</td>\n",
       "    </tr>\n",
       "  </tbody>\n",
       "</table>\n",
       "<p>740 rows × 3 columns</p>\n",
       "</div>"
      ],
      "text/plain": [
       "                                  Name  Sales worldwide  Counts\n",
       "246      Grand Theft Auto: San Andreas            20.81       1\n",
       "244                     Gran Turismo 4            11.66       1\n",
       "446  Pokemon FireRed/Pokemon LeafGreen            10.49       1\n",
       "581                     Super Mario 64            10.42       1\n",
       "257                             Halo 2             8.49       1\n",
       "..                                 ...              ...     ...\n",
       "655          Tiger Woods PGA Tour 2005             0.01       1\n",
       "221              Football Manager 2005             0.01       1\n",
       "388                Myst IV: Revelation             0.01       1\n",
       "706        Wade Hixton's Counter Punch             0.01       1\n",
       "457                         Powerdrome             0.01       1\n",
       "\n",
       "[740 rows x 3 columns]"
      ]
     },
     "execution_count": 75,
     "metadata": {},
     "output_type": "execute_result"
    }
   ],
   "source": [
    "(\n",
    "    data_to_csv[data_to_csv[\"Year\"] == 2004]\n",
    "    .groupby([\"Name\", \"Sales worldwide\"])[[\"Name\", \"Sales worldwide\"]]\n",
    "    .value_counts()\n",
    "    .reset_index(name='Counts')\n",
    "    .sort_values(ascending=False, by=\"Sales worldwide\")\n",
    ")"
   ]
  }
 ],
 "metadata": {
  "kernelspec": {
   "display_name": "Python 3",
   "language": "python",
   "name": "python3"
  },
  "language_info": {
   "codemirror_mode": {
    "name": "ipython",
    "version": 3
   },
   "file_extension": ".py",
   "mimetype": "text/x-python",
   "name": "python",
   "nbconvert_exporter": "python",
   "pygments_lexer": "ipython3",
   "version": "3.9.5"
  }
 },
 "nbformat": 4,
 "nbformat_minor": 2
}
